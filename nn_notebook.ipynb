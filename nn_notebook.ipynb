{
 "cells": [
  {
   "cell_type": "markdown",
   "id": "f2976325",
   "metadata": {},
   "source": [
    "# Autoencoder Test"
   ]
  },
  {
   "cell_type": "code",
   "execution_count": 24,
   "id": "fb39b671",
   "metadata": {},
   "outputs": [],
   "source": [
    "import sklearn.datasets\n",
    "from sklearn.model_selection import train_test_split"
   ]
  },
  {
   "cell_type": "code",
   "execution_count": 25,
   "id": "12ea9d38",
   "metadata": {},
   "outputs": [],
   "source": [
    "digits = sklearn.datasets.load_digits()"
   ]
  },
  {
   "cell_type": "code",
   "execution_count": 26,
   "id": "44c9b4ef",
   "metadata": {},
   "outputs": [],
   "source": [
    "X_train, X_test, y_train, y_test = train_test_split(digits.data, digits.target, test_size=.1, random_state=27)"
   ]
  },
  {
   "cell_type": "code",
   "execution_count": 27,
   "id": "25f4adfa",
   "metadata": {},
   "outputs": [
    {
     "data": {
      "text/plain": [
       "((1617, 64), (180, 64))"
      ]
     },
     "execution_count": 27,
     "metadata": {},
     "output_type": "execute_result"
    }
   ],
   "source": [
    "X_train.shape, X_test.shape"
   ]
  },
  {
   "cell_type": "code",
   "execution_count": 28,
   "id": "49d9c26c",
   "metadata": {},
   "outputs": [],
   "source": [
    "from nn import nn"
   ]
  },
  {
   "cell_type": "code",
   "execution_count": 29,
   "id": "26b05ba3",
   "metadata": {},
   "outputs": [],
   "source": [
    "net = nn.NeuralNetwork(\n",
    "    nn_arch = [{'input_dim': 64, 'output_dim': 16, 'activation': 'relu'},\n",
    "               {'input_dim': 16, 'output_dim': 64, 'activation': 'relu'}],\n",
    "    lr = 1e-3,\n",
    "    seed = 27,\n",
    "    batch_size=10,\n",
    "    epochs=10,\n",
    "    loss_function=\"mse\")"
   ]
  },
  {
   "cell_type": "code",
   "execution_count": 30,
   "id": "fb3f676c",
   "metadata": {},
   "outputs": [
    {
     "name": "stdout",
     "output_type": "stream",
     "text": [
      "W1\n",
      "(16, 64)\n",
      "b1\n",
      "(16, 1)\n",
      "W2\n",
      "(64, 16)\n",
      "b2\n",
      "(64, 1)\n"
     ]
    }
   ],
   "source": [
    "for key, val in net._param_dict.items():\n",
    "    print(key)\n",
    "    print(val.shape)"
   ]
  },
  {
   "cell_type": "code",
   "execution_count": 31,
   "id": "5c12a16b",
   "metadata": {},
   "outputs": [
    {
     "name": "stdout",
     "output_type": "stream",
     "text": [
      "start train\n",
      "[[ 0.  0.  4. 15. 11.  1.  0.  0.  0.  2. 14. 14. 16.  8.  0.  0.  0.  8.\n",
      "  15.  2.  3. 13.  0.  0.  0.  4. 16.  0.  0. 12.  7.  0.  0.  7. 16.  0.\n",
      "   0. 12.  8.  0.  0.  3. 16.  6.  1. 14.  9.  0.  0.  0. 15. 16. 16. 16.\n",
      "   2.  0.  0.  0.  4. 13. 14.  6.  0.  0.]\n",
      " [ 0.  0.  0.  9. 11.  0.  0.  0.  0.  0.  5. 15.  1.  0.  0.  0.  0.  2.\n",
      "  16.  4.  0.  3.  9.  0.  0.  7. 14.  0.  1. 14. 12.  0.  0.  9. 16. 12.\n",
      "  14. 15.  1.  0.  0.  0.  6.  8. 15.  6.  0.  0.  0.  0.  0.  4. 16.  1.\n",
      "   0.  0.  0.  0.  0.  9. 13.  0.  0.  0.]\n",
      " [ 0.  0.  4. 13. 14.  2.  0.  0.  0.  0. 15. 10. 11. 10.  0.  0.  0.  3.\n",
      "  15.  2. 12.  6.  0.  0.  0.  0.  3.  8. 16.  7.  0.  0.  0.  0.  0.  4.\n",
      "   9. 16.  2.  0.  0.  0. 10.  3.  0. 13.  6.  0.  0.  0. 16.  5.  7. 16.\n",
      "   3.  0.  0.  0.  7. 13. 13.  8.  0.  0.]\n",
      " [ 0.  0.  4. 16. 12.  1.  0.  0.  0.  2. 16. 16. 11.  8.  0.  0.  0.  3.\n",
      "  16. 13.  1. 14.  2.  0.  0.  4. 16.  0.  0. 13.  4.  0.  0.  4. 15.  0.\n",
      "   0. 13.  8.  0.  0.  1. 16.  1.  0. 14.  5.  0.  0.  0. 10.  8.  7. 15.\n",
      "   1.  0.  0.  0.  2. 13. 16.  8.  0.  0.]\n",
      " [ 0.  0.  0. 11.  4.  0.  0.  0.  0.  0.  1. 16.  4.  3.  0.  0.  0.  0.\n",
      "  10.  9. 16.  4.  0.  0.  0.  2. 14.  5. 16.  2.  0.  0.  0.  8. 13.  7.\n",
      "  16. 11.  2.  0.  0. 10. 16. 16. 16. 14.  1.  0.  0.  0.  0. 11. 13.  0.\n",
      "   0.  0.  0.  0.  0. 11.  7.  0.  0.  0.]\n",
      " [ 0.  1. 10. 12. 15. 11.  0.  0.  0.  8. 16. 13.  9.  4.  0.  0.  0.  5.\n",
      "  15.  1.  0.  0.  0.  0.  0.  8. 10.  0.  0.  0.  0.  0.  0.  2. 14. 16.\n",
      "   7.  0.  0.  0.  0.  0.  1.  4. 13.  7.  0.  0.  0.  0.  0.  6. 11. 11.\n",
      "   0.  0.  0.  0.  9. 16. 14.  2.  0.  0.]\n",
      " [ 0.  0.  7. 12.  9.  0.  0.  0.  0.  0. 12. 16. 16.  1.  0.  0.  0.  0.\n",
      "  11. 16. 16.  0.  0.  0.  0.  0. 12. 16. 16.  0.  0.  0.  0.  0. 13. 16.\n",
      "  16.  0.  0.  0.  0.  0. 13. 16. 16.  0.  0.  0.  0.  1. 14. 16. 16.  1.\n",
      "   0.  0.  0.  0.  4. 12. 12.  9.  0.  0.]\n",
      " [ 0.  1.  7. 14. 10.  0.  0.  0.  0. 10. 12.  5.  9.  7.  0.  0.  0. 10.\n",
      "   6.  0.  6. 15.  0.  0.  0.  5. 11. 11. 14. 15.  1.  0.  0.  0.  2.  7.\n",
      "   1. 10.  5.  0.  0.  0.  0.  0.  0.  9.  5.  0.  0.  0.  5.  3.  0. 13.\n",
      "   5.  0.  0.  0.  4. 14. 14. 12.  2.  0.]\n",
      " [ 0.  0.  4. 13. 14. 16.  3.  0.  0.  0.  6. 11. 10. 16.  1.  0.  0.  0.\n",
      "   0.  0.  7. 14.  0.  0.  0.  0.  9. 16. 16. 16. 12.  0.  0.  0. 15. 13.\n",
      "  16.  7.  2.  0.  0.  0.  0.  8. 12.  0.  0.  0.  0.  0.  2. 14.  6.  0.\n",
      "   0.  0.  0.  0.  8. 13.  1.  0.  0.  0.]\n",
      " [ 0.  0.  2. 14. 10.  0.  0.  0.  0.  0. 12. 10.  0.  0.  0.  0.  0.  2.\n",
      "  15.  2.  0.  0.  0.  0.  0.  7. 12.  1.  4.  6.  0.  0.  0.  7. 16. 16.\n",
      "  15. 15.  8.  0.  0.  0. 16. 13.  0.  4. 12.  0.  0.  0. 10. 12.  4.  8.\n",
      "  15.  0.  0.  0.  2. 11. 16. 15.  5.  0.]]\n",
      "(10, 64)\n"
     ]
    },
    {
     "ename": "KeyError",
     "evalue": "'W0'",
     "output_type": "error",
     "traceback": [
      "\u001b[0;31m---------------------------------------------------------------------------\u001b[0m",
      "\u001b[0;31mKeyError\u001b[0m                                  Traceback (most recent call last)",
      "\u001b[0;32m/var/folders/hr/mq47nzpj1mvgtnm5rp1hgjsc0000gn/T/ipykernel_18433/2004169439.py\u001b[0m in \u001b[0;36m<module>\u001b[0;34m\u001b[0m\n\u001b[0;32m----> 1\u001b[0;31m \u001b[0mnet\u001b[0m\u001b[0;34m.\u001b[0m\u001b[0mfit\u001b[0m\u001b[0;34m(\u001b[0m\u001b[0mX_train\u001b[0m\u001b[0;34m,\u001b[0m \u001b[0mX_test\u001b[0m\u001b[0;34m,\u001b[0m \u001b[0my_train\u001b[0m\u001b[0;34m,\u001b[0m \u001b[0my_test\u001b[0m\u001b[0;34m)\u001b[0m\u001b[0;34m\u001b[0m\u001b[0;34m\u001b[0m\u001b[0m\n\u001b[0m",
      "\u001b[0;32m~/ucsf_biophysics/bmi-203/project7/nn/nn.py\u001b[0m in \u001b[0;36mfit\u001b[0;34m(self, X_train, y_train, X_val, y_val)\u001b[0m\n\u001b[1;32m    234\u001b[0m         \u001b[0my_batches\u001b[0m \u001b[0;34m=\u001b[0m \u001b[0;34m[\u001b[0m\u001b[0my_train\u001b[0m\u001b[0;34m[\u001b[0m\u001b[0mi\u001b[0m\u001b[0;34m:\u001b[0m \u001b[0mi\u001b[0m \u001b[0;34m+\u001b[0m \u001b[0mself\u001b[0m\u001b[0;34m.\u001b[0m\u001b[0m_batch_size\u001b[0m\u001b[0;34m]\u001b[0m \u001b[0;32mfor\u001b[0m \u001b[0mi\u001b[0m \u001b[0;32min\u001b[0m \u001b[0mrange\u001b[0m\u001b[0;34m(\u001b[0m\u001b[0;36m0\u001b[0m\u001b[0;34m,\u001b[0m \u001b[0mlen\u001b[0m\u001b[0;34m(\u001b[0m\u001b[0my_train\u001b[0m\u001b[0;34m)\u001b[0m\u001b[0;34m,\u001b[0m \u001b[0mself\u001b[0m\u001b[0;34m.\u001b[0m\u001b[0m_batch_size\u001b[0m\u001b[0;34m)\u001b[0m\u001b[0;34m]\u001b[0m\u001b[0;34m\u001b[0m\u001b[0;34m\u001b[0m\u001b[0m\n\u001b[1;32m    235\u001b[0m         \u001b[0;32mfor\u001b[0m \u001b[0mepoch\u001b[0m \u001b[0;32min\u001b[0m \u001b[0mrange\u001b[0m\u001b[0;34m(\u001b[0m\u001b[0mself\u001b[0m\u001b[0;34m.\u001b[0m\u001b[0m_epochs\u001b[0m \u001b[0;34m+\u001b[0m \u001b[0;36m1\u001b[0m\u001b[0;34m)\u001b[0m\u001b[0;34m:\u001b[0m\u001b[0;34m\u001b[0m\u001b[0;34m\u001b[0m\u001b[0m\n\u001b[0;32m--> 236\u001b[0;31m             \u001b[0;32mfor\u001b[0m \u001b[0mfeatures\u001b[0m\u001b[0;34m,\u001b[0m \u001b[0mlabels\u001b[0m \u001b[0;32min\u001b[0m \u001b[0mzip\u001b[0m\u001b[0;34m(\u001b[0m\u001b[0mX_batches\u001b[0m\u001b[0;34m,\u001b[0m \u001b[0my_batches\u001b[0m\u001b[0;34m)\u001b[0m\u001b[0;34m:\u001b[0m\u001b[0;34m\u001b[0m\u001b[0;34m\u001b[0m\u001b[0m\n\u001b[0m\u001b[1;32m    237\u001b[0m                 \u001b[0moutput\u001b[0m \u001b[0;34m=\u001b[0m \u001b[0mself\u001b[0m\u001b[0;34m.\u001b[0m\u001b[0mforward\u001b[0m\u001b[0;34m(\u001b[0m\u001b[0mfeatures\u001b[0m\u001b[0;34m)\u001b[0m\u001b[0;34m\u001b[0m\u001b[0;34m\u001b[0m\u001b[0m\n\u001b[1;32m    238\u001b[0m                 \u001b[0;32mreturn\u001b[0m\u001b[0;34m\u001b[0m\u001b[0;34m\u001b[0m\u001b[0m\n",
      "\u001b[0;32m~/ucsf_biophysics/bmi-203/project7/nn/nn.py\u001b[0m in \u001b[0;36mforward\u001b[0;34m(self, X)\u001b[0m\n\u001b[1;32m    131\u001b[0m         \u001b[0mprint\u001b[0m\u001b[0;34m(\u001b[0m\u001b[0mX\u001b[0m\u001b[0;34m.\u001b[0m\u001b[0mshape\u001b[0m\u001b[0;34m)\u001b[0m\u001b[0;34m\u001b[0m\u001b[0;34m\u001b[0m\u001b[0m\n\u001b[1;32m    132\u001b[0m         \u001b[0;32mfor\u001b[0m \u001b[0midx\u001b[0m\u001b[0;34m,\u001b[0m \u001b[0mlayer\u001b[0m \u001b[0;32min\u001b[0m \u001b[0menumerate\u001b[0m\u001b[0;34m(\u001b[0m\u001b[0mself\u001b[0m\u001b[0;34m.\u001b[0m\u001b[0march\u001b[0m\u001b[0;34m)\u001b[0m\u001b[0;34m:\u001b[0m\u001b[0;34m\u001b[0m\u001b[0;34m\u001b[0m\u001b[0m\n\u001b[0;32m--> 133\u001b[0;31m             \u001b[0mlayer_idx\u001b[0m \u001b[0;34m=\u001b[0m \u001b[0midx\u001b[0m \u001b[0;34m+\u001b[0m \u001b[0;36m1\u001b[0m\u001b[0;34m\u001b[0m\u001b[0;34m\u001b[0m\u001b[0m\n\u001b[0m\u001b[1;32m    134\u001b[0m             \u001b[0mprint\u001b[0m\u001b[0;34m(\u001b[0m\u001b[0mlayer_idx\u001b[0m\u001b[0;34m)\u001b[0m\u001b[0;34m\u001b[0m\u001b[0;34m\u001b[0m\u001b[0m\n\u001b[1;32m    135\u001b[0m             \u001b[0mcurr_weight_mat\u001b[0m \u001b[0;34m=\u001b[0m \u001b[0mself\u001b[0m\u001b[0;34m.\u001b[0m\u001b[0m_param_dict\u001b[0m\u001b[0;34m[\u001b[0m\u001b[0;34m\"W\"\u001b[0m \u001b[0;34m+\u001b[0m \u001b[0mstr\u001b[0m\u001b[0;34m(\u001b[0m\u001b[0mlayer_idx\u001b[0m\u001b[0;34m)\u001b[0m\u001b[0;34m]\u001b[0m\u001b[0;34m\u001b[0m\u001b[0;34m\u001b[0m\u001b[0m\n",
      "\u001b[0;31mKeyError\u001b[0m: 'W0'"
     ]
    }
   ],
   "source": [
    "net.fit(X_train, X_test, y_train, y_test)"
   ]
  },
  {
   "cell_type": "code",
   "execution_count": null,
   "id": "a10b3ab1",
   "metadata": {},
   "outputs": [],
   "source": [
    "print()"
   ]
  }
 ],
 "metadata": {
  "kernelspec": {
   "display_name": "Python 3 (ipykernel)",
   "language": "python",
   "name": "python3"
  },
  "language_info": {
   "codemirror_mode": {
    "name": "ipython",
    "version": 3
   },
   "file_extension": ".py",
   "mimetype": "text/x-python",
   "name": "python",
   "nbconvert_exporter": "python",
   "pygments_lexer": "ipython3",
   "version": "3.8.12"
  }
 },
 "nbformat": 4,
 "nbformat_minor": 5
}
