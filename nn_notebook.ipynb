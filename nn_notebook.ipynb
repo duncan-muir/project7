{
 "cells": [
  {
   "cell_type": "markdown",
   "id": "f2976325",
   "metadata": {},
   "source": [
    "# Autoencoder "
   ]
  },
  {
   "cell_type": "code",
   "execution_count": 20,
   "id": "fb39b671",
   "metadata": {},
   "outputs": [],
   "source": [
    "import sklearn.datasets\n",
    "import matplotlib.pyplot as plt\n",
    "import numpy as np\n",
    "from sklearn.model_selection import train_test_split\n",
    "from sklearn.metrics import accuracy_score"
   ]
  },
  {
   "cell_type": "code",
   "execution_count": null,
   "id": "12ea9d38",
   "metadata": {},
   "outputs": [],
   "source": [
    "digits = sklearn.datasets.load_digits()"
   ]
  },
  {
   "cell_type": "code",
   "execution_count": null,
   "id": "44c9b4ef",
   "metadata": {},
   "outputs": [],
   "source": [
    "X_train, X_test, y_train, y_test = train_test_split(digits.data, digits.target, test_size=.1, random_state=27)"
   ]
  },
  {
   "cell_type": "code",
   "execution_count": null,
   "id": "25f4adfa",
   "metadata": {},
   "outputs": [],
   "source": [
    "X_train.shape, X_test.shape"
   ]
  },
  {
   "cell_type": "code",
   "execution_count": 2,
   "id": "49d9c26c",
   "metadata": {},
   "outputs": [],
   "source": [
    "from nn import nn, io, preprocess"
   ]
  },
  {
   "cell_type": "code",
   "execution_count": null,
   "id": "26b05ba3",
   "metadata": {},
   "outputs": [],
   "source": [
    "net = nn.NeuralNetwork(\n",
    "    nn_arch = [{'input_dim': 64, 'output_dim': 16, 'activation': 'relu'},\n",
    "               {'input_dim': 16, 'output_dim': 64, 'activation': 'relu'}],\n",
    "    lr = 1e-3,\n",
    "    seed = 27,\n",
    "    batch_size=10,\n",
    "    epochs=1000,\n",
    "    loss_function=\"mse\")"
   ]
  },
  {
   "cell_type": "code",
   "execution_count": null,
   "id": "5c12a16b",
   "metadata": {},
   "outputs": [],
   "source": [
    "train_losses, val_losses = net.fit(X_train, X_train, X_test, X_test)"
   ]
  },
  {
   "cell_type": "code",
   "execution_count": null,
   "id": "7966421b",
   "metadata": {},
   "outputs": [],
   "source": [
    "plt.plot(train_losses, label=\"train\")\n",
    "plt.plot(val_losses, label=\"val\")\n",
    "plt.xlabel(\"Epoch\")\n",
    "plt.ylabel(\"Loss\")\n",
    "plt.legend()"
   ]
  },
  {
   "cell_type": "code",
   "execution_count": null,
   "id": "a10b3ab1",
   "metadata": {},
   "outputs": [],
   "source": [
    "fig, (ax1, ax2) = plt.subplots(1,2)\n",
    "pred = net.predict(digits.data[0])\n",
    "ax1.imshow(digits.data[0].reshape(8,8), vmin=4)\n",
    "ax1.set_title(\"actual\")\n",
    "ax2.set_title(\"predicted\")\n",
    "ax2.imshow(pred.reshape(8,8), vmin=4)\n"
   ]
  },
  {
   "cell_type": "markdown",
   "id": "76118dc4",
   "metadata": {},
   "source": [
    "# Transcription Factor Classifier"
   ]
  },
  {
   "cell_type": "code",
   "execution_count": 64,
   "id": "40af23c3",
   "metadata": {},
   "outputs": [],
   "source": [
    "positives = io.read_text_file(\"./data/rap1-lieb-positives.txt\")\n",
    "negatives = io.read_fasta_file(\"./data/yeast-upstream-1k-negative.fa\")"
   ]
  },
  {
   "cell_type": "code",
   "execution_count": 82,
   "id": "9c49f299",
   "metadata": {},
   "outputs": [],
   "source": [
    "pos_length = len(positives[0])\n",
    "\n",
    "negs_shortened = []\n",
    "for seq in negatives:\n",
    "    negs = [seq[i*pos_length:(i + 1)*pos_length] for i in range(len(seq) // pos_length)]\n",
    "    negs_shortened.extend(negs)\n",
    "neg_seqs = list(np.array(negs_shortened)[np.random.randint(len(negs_shortened), size=10000)])"
   ]
  },
  {
   "cell_type": "code",
   "execution_count": 83,
   "id": "89d67cb2",
   "metadata": {},
   "outputs": [
    {
     "name": "stdout",
     "output_type": "stream",
     "text": [
      "10137\n"
     ]
    }
   ],
   "source": [
    "all_seqs = positives + neg_seqs\n",
    "all_labels = [True] * len(positives) + [False] * len(neg_seqs)\n",
    "print(len(all_labels))"
   ]
  },
  {
   "cell_type": "code",
   "execution_count": 86,
   "id": "d495cc02",
   "metadata": {},
   "outputs": [
    {
     "name": "stdout",
     "output_type": "stream",
     "text": [
      "20000\n"
     ]
    }
   ],
   "source": [
    "pos_seqs = np.array(all_seqs, dtype=object)[all_labels]\n",
    "neg_seqs = np.array(all_seqs, dtype=object)[[not label for label in all_labels]]\n",
    "\n",
    "if len(pos_seqs) > len(neg_seqs):\n",
    "    boosted = list(neg_seqs[np.random.randint(len(neg_seqs), size=len(pos_seqs))])\n",
    "    balanced_seqs = list(pos_seqs) + boosted\n",
    "    balanced_labels = [True] * len(pos_seqs) + [False] * len(boosted)\n",
    "elif len(pos_seqs) < len(neg_seqs):\n",
    "    boosted = list(pos_seqs[np.random.randint(len(pos_seqs), size=len(neg_seqs))])\n",
    "    balanced_seqs = list(neg_seqs) + boosted\n",
    "    balanced_labels = [False] * len(neg_seqs) + [True] * len(boosted)\n",
    "else:\n",
    "    balanced_seqs = all_seqs\n",
    "    balanced_labels = all_labels\n"
   ]
  },
  {
   "cell_type": "code",
   "execution_count": 5,
   "id": "4671a7c7",
   "metadata": {},
   "outputs": [],
   "source": [
    "one_hot_pos = preprocess.one_hot_encode_seqs(positives)\n",
    "one_hot_neg = preprocess.one_hot_encode_seqs(neg_short_arr)"
   ]
  },
  {
   "cell_type": "code",
   "execution_count": 6,
   "id": "86670567",
   "metadata": {},
   "outputs": [],
   "source": [
    "pos_with_labels = np.hstack((one_hot_pos, np.ones((one_hot_pos.shape[0], 1))))\n",
    "neg_with_labels = np.hstack((one_hot_neg, np.zeros((one_hot_neg.shape[0], 1))))"
   ]
  },
  {
   "cell_type": "code",
   "execution_count": 7,
   "id": "1e320d6a",
   "metadata": {},
   "outputs": [
    {
     "name": "stdout",
     "output_type": "stream",
     "text": [
      "(10000, 69)\n"
     ]
    }
   ],
   "source": [
    "if len(pos_with_labels) > len(neg_with_labels):\n",
    "    A[np.random.randint(A.shape[0], size=2), :]\n",
    "    boosted = neg_with_labels[np.random.randint(neg_with_labels.shape[0], size=len(pos_with_labels)), :]\n",
    "    dataset = np.concatenate([boosted, neg_with_labels], axis=0)\n",
    "elif len(pos_with_labels) < len(neg_with_labels):\n",
    "    boosted = pos_with_labels[np.random.randint(pos_with_labels.shape[0], size=len(neg_with_labels)), :]\n",
    "    print(boosted.shape)\n",
    "    dataset = np.concatenate([boosted, neg_with_labels], axis=0)\n"
   ]
  },
  {
   "cell_type": "code",
   "execution_count": 8,
   "id": "6ea49dae",
   "metadata": {},
   "outputs": [
    {
     "data": {
      "text/plain": [
       "(20000, 69)"
      ]
     },
     "execution_count": 8,
     "metadata": {},
     "output_type": "execute_result"
    }
   ],
   "source": [
    "dataset.shape"
   ]
  },
  {
   "cell_type": "code",
   "execution_count": 9,
   "id": "919fc77b",
   "metadata": {},
   "outputs": [],
   "source": [
    "X_train_tfc, X_test_tfc, y_train_tfc, y_test_tfc = train_test_split(dataset[:,:-1], dataset[:,-1][:, np.newaxis], test_size=.1, random_state=27)"
   ]
  },
  {
   "cell_type": "code",
   "execution_count": 10,
   "id": "f36058f2",
   "metadata": {},
   "outputs": [
    {
     "data": {
      "text/plain": [
       "(18000, 68)"
      ]
     },
     "execution_count": 10,
     "metadata": {},
     "output_type": "execute_result"
    }
   ],
   "source": [
    "X_train_tfc.shape"
   ]
  },
  {
   "cell_type": "code",
   "execution_count": 40,
   "id": "cfbbc10b",
   "metadata": {},
   "outputs": [],
   "source": [
    "clf = nn.NeuralNetwork(\n",
    "    nn_arch = [{'input_dim': 68, 'output_dim': 30, 'activation': 'relu'},\n",
    "               {'input_dim': 30, 'output_dim': 1, 'activation': 'sigmoid'}],\n",
    "    lr = 1e-3,\n",
    "    seed = 27,\n",
    "    batch_size=100,\n",
    "    epochs=100,\n",
    "    loss_function=\"bce\")"
   ]
  },
  {
   "cell_type": "code",
   "execution_count": 41,
   "id": "0820672f",
   "metadata": {},
   "outputs": [],
   "source": [
    "train_losses_tfc, val_losses_tfc = clf.fit(X_train_tfc, y_train_tfc, X_test_tfc, y_test_tfc)"
   ]
  },
  {
   "cell_type": "code",
   "execution_count": 42,
   "id": "40a00f1d",
   "metadata": {},
   "outputs": [
    {
     "data": {
      "text/plain": [
       "<matplotlib.legend.Legend at 0x7fe4122e91f0>"
      ]
     },
     "execution_count": 42,
     "metadata": {},
     "output_type": "execute_result"
    },
    {
     "data": {
      "image/png": "[encoded data removed]",
      "text/plain": [
       "<Figure size 432x288 with 1 Axes>"
      ]
     },
     "metadata": {
      "needs_background": "light"
     },
     "output_type": "display_data"
    }
   ],
   "source": [
    "plt.plot(train_losses_tfc, label=\"train\")\n",
    "plt.plot(val_losses_tfc, label=\"val\")\n",
    "plt.xlabel(\"Epoch\")\n",
    "plt.ylabel(\"Loss\")\n",
    "plt.legend()"
   ]
  },
  {
   "cell_type": "code",
   "execution_count": 50,
   "id": "38678e95",
   "metadata": {},
   "outputs": [
    {
     "data": {
      "text/plain": [
       "0.9965"
      ]
     },
     "execution_count": 50,
     "metadata": {},
     "output_type": "execute_result"
    }
   ],
   "source": [
    "accuracy_score((clf.predict(X_test_tfc) >= .5).astype(int), y_test_tfc)"
   ]
  },
  {
   "cell_type": "code",
   "execution_count": null,
   "id": "846287f9",
   "metadata": {},
   "outputs": [],
   "source": []
  }
 ],
 "metadata": {
  "kernelspec": {
   "display_name": "Python 3 (ipykernel)",
   "language": "python",
   "name": "python3"
  },
  "language_info": {
   "codemirror_mode": {
    "name": "ipython",
    "version": 3
   },
   "file_extension": ".py",
   "mimetype": "text/x-python",
   "name": "python",
   "nbconvert_exporter": "python",
   "pygments_lexer": "ipython3",
   "version": "3.8.12"
  }
 },
 "nbformat": 4,
 "nbformat_minor": 5
}
