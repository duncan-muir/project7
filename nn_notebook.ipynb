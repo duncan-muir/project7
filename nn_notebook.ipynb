{
 "cells": [
  {
   "cell_type": "markdown",
   "id": "03ae7f64",
   "metadata": {},
   "source": [
    "# Project 7: Neural Network\n",
    "Duncan Muir"
   ]
  },
  {
   "cell_type": "code",
   "execution_count": 38,
   "id": "33542645",
   "metadata": {},
   "outputs": [],
   "source": [
    "import sklearn.datasets\n",
    "import matplotlib.pyplot as plt\n",
    "import numpy as np\n",
    "from sklearn.model_selection import train_test_split\n",
    "from sklearn.metrics import accuracy_score, mean_squared_error\n",
    "from nn import nn, io, preprocess\n",
    "import optuna"
   ]
  },
  {
   "cell_type": "markdown",
   "id": "f2976325",
   "metadata": {},
   "source": [
    "## Part 1: Autoencoder "
   ]
  },
  {
   "cell_type": "markdown",
   "id": "99f64946",
   "metadata": {},
   "source": [
    "### Read in Digits Dataset"
   ]
  },
  {
   "cell_type": "code",
   "execution_count": 2,
   "id": "12ea9d38",
   "metadata": {},
   "outputs": [],
   "source": [
    "digits = sklearn.datasets.load_digits()"
   ]
  },
  {
   "cell_type": "code",
   "execution_count": 3,
   "id": "44c9b4ef",
   "metadata": {},
   "outputs": [],
   "source": [
    "X_train, X_test, y_train, y_test = train_test_split(digits.data, digits.target, test_size=.1, random_state=14)"
   ]
  },
  {
   "cell_type": "code",
   "execution_count": 4,
   "id": "25f4adfa",
   "metadata": {},
   "outputs": [
    {
     "data": {
      "text/plain": [
       "((1617, 64), (180, 64))"
      ]
     },
     "execution_count": 4,
     "metadata": {},
     "output_type": "execute_result"
    }
   ],
   "source": [
    "X_train.shape, X_test.shape"
   ]
  },
  {
   "cell_type": "markdown",
   "id": "4a6471eb",
   "metadata": {},
   "source": [
    "### Hyperparameter Search w/ Optuna"
   ]
  },
  {
   "cell_type": "code",
   "execution_count": 31,
   "id": "158f9b91",
   "metadata": {},
   "outputs": [
    {
     "name": "stderr",
     "output_type": "stream",
     "text": [
      "\u001b[32m[I 2022-03-05 20:03:02,855]\u001b[0m A new study created in memory with name: no-name-df4bf0b1-ddda-48ed-8261-b1acbc1fadb6\u001b[0m\n",
      "\u001b[32m[I 2022-03-05 20:03:11,279]\u001b[0m Trial 0 finished with value: 10.754584269226202 and parameters: {'encode_activ_func': 'relu', 'decode_activ_func': 'relu', 'learning_rate': -7, 'batch_size': 10, 'n_epochs': 500}. Best is trial 0 with value: 10.754584269226202.\u001b[0m\n",
      "\u001b[32m[I 2022-03-05 20:03:11,473]\u001b[0m Trial 1 finished with value: 11.502041237368783 and parameters: {'encode_activ_func': 'relu', 'decode_activ_func': 'relu', 'learning_rate': -5, 'batch_size': 10, 'n_epochs': 10}. Best is trial 0 with value: 10.754584269226202.\u001b[0m\n",
      "\u001b[32m[I 2022-03-05 20:03:14,007]\u001b[0m Trial 2 finished with value: 50.188448233939894 and parameters: {'encode_activ_func': 'sigmoid', 'decode_activ_func': 'sigmoid', 'learning_rate': -4, 'batch_size': 200, 'n_epochs': 500}. Best is trial 0 with value: 10.754584269226202.\u001b[0m\n",
      "\u001b[32m[I 2022-03-05 20:03:14,216]\u001b[0m Trial 3 finished with value: 31.761450391294865 and parameters: {'encode_activ_func': 'relu', 'decode_activ_func': 'relu', 'learning_rate': -7, 'batch_size': 400, 'n_epochs': 100}. Best is trial 0 with value: 10.754584269226202.\u001b[0m\n",
      "\u001b[32m[I 2022-03-05 20:03:14,656]\u001b[0m Trial 4 finished with value: 50.20684074404339 and parameters: {'encode_activ_func': 'relu', 'decode_activ_func': 'sigmoid', 'learning_rate': -6, 'batch_size': 400, 'n_epochs': 100}. Best is trial 0 with value: 10.754584269226202.\u001b[0m\n",
      "\u001b[32m[I 2022-03-05 20:03:17,333]\u001b[0m Trial 5 finished with value: 50.14351986364236 and parameters: {'encode_activ_func': 'sigmoid', 'decode_activ_func': 'sigmoid', 'learning_rate': -2, 'batch_size': 200, 'n_epochs': 500}. Best is trial 0 with value: 10.754584269226202.\u001b[0m\n",
      "\u001b[32m[I 2022-03-05 20:03:18,151]\u001b[0m Trial 6 finished with value: 50.16230885884148 and parameters: {'encode_activ_func': 'sigmoid', 'decode_activ_func': 'sigmoid', 'learning_rate': -3, 'batch_size': 50, 'n_epochs': 100}. Best is trial 0 with value: 10.754584269226202.\u001b[0m\n",
      "\u001b[32m[I 2022-03-05 20:03:18,399]\u001b[0m Trial 7 finished with value: 47.8787605703092 and parameters: {'encode_activ_func': 'relu', 'decode_activ_func': 'relu', 'learning_rate': -2, 'batch_size': 200, 'n_epochs': 100}. Best is trial 0 with value: 10.754584269226202.\u001b[0m\n",
      "\u001b[32m[I 2022-03-05 20:03:20,474]\u001b[0m Trial 8 finished with value: 23.542024678015302 and parameters: {'encode_activ_func': 'sigmoid', 'decode_activ_func': 'relu', 'learning_rate': -6, 'batch_size': 10, 'n_epochs': 100}. Best is trial 0 with value: 10.754584269226202.\u001b[0m\n",
      "\u001b[32m[I 2022-03-05 20:03:21,740]\u001b[0m Trial 9 finished with value: 19.854115535933822 and parameters: {'encode_activ_func': 'relu', 'decode_activ_func': 'relu', 'learning_rate': -7, 'batch_size': 200, 'n_epochs': 500}. Best is trial 0 with value: 10.754584269226202.\u001b[0m\n",
      "\u001b[32m[I 2022-03-05 20:03:25,702]\u001b[0m Trial 10 finished with value: 9.544779607151284 and parameters: {'encode_activ_func': 'relu', 'decode_activ_func': 'relu', 'learning_rate': -4, 'batch_size': 100, 'n_epochs': 1000}. Best is trial 10 with value: 9.544779607151284.\u001b[0m\n",
      "\u001b[32m[I 2022-03-05 20:03:29,645]\u001b[0m Trial 11 finished with value: 57.28540882760154 and parameters: {'encode_activ_func': 'relu', 'decode_activ_func': 'relu', 'learning_rate': -1, 'batch_size': 100, 'n_epochs': 1000}. Best is trial 10 with value: 9.544779607151284.\u001b[0m\n",
      "\u001b[32m[I 2022-03-05 20:03:33,669]\u001b[0m Trial 12 finished with value: 9.544779607151284 and parameters: {'encode_activ_func': 'relu', 'decode_activ_func': 'relu', 'learning_rate': -4, 'batch_size': 100, 'n_epochs': 1000}. Best is trial 10 with value: 9.544779607151284.\u001b[0m\n",
      "\u001b[32m[I 2022-03-05 20:03:37,756]\u001b[0m Trial 13 finished with value: 9.544779607151284 and parameters: {'encode_activ_func': 'relu', 'decode_activ_func': 'relu', 'learning_rate': -4, 'batch_size': 100, 'n_epochs': 1000}. Best is trial 10 with value: 9.544779607151284.\u001b[0m\n",
      "\u001b[32m[I 2022-03-05 20:03:41,958]\u001b[0m Trial 14 finished with value: 48.250481292668184 and parameters: {'encode_activ_func': 'relu', 'decode_activ_func': 'relu', 'learning_rate': -3, 'batch_size': 100, 'n_epochs': 1000}. Best is trial 10 with value: 9.544779607151284.\u001b[0m\n",
      "\u001b[32m[I 2022-03-05 20:03:45,938]\u001b[0m Trial 15 finished with value: 10.84875253554179 and parameters: {'encode_activ_func': 'relu', 'decode_activ_func': 'relu', 'learning_rate': -5, 'batch_size': 100, 'n_epochs': 1000}. Best is trial 10 with value: 9.544779607151284.\u001b[0m\n",
      "\u001b[32m[I 2022-03-05 20:03:50,151]\u001b[0m Trial 16 finished with value: 48.250481292668184 and parameters: {'encode_activ_func': 'relu', 'decode_activ_func': 'relu', 'learning_rate': -3, 'batch_size': 100, 'n_epochs': 1000}. Best is trial 10 with value: 9.544779607151284.\u001b[0m\n",
      "\u001b[32m[I 2022-03-05 20:03:50,229]\u001b[0m Trial 17 finished with value: 20.914220692962086 and parameters: {'encode_activ_func': 'relu', 'decode_activ_func': 'relu', 'learning_rate': -5, 'batch_size': 50, 'n_epochs': 10}. Best is trial 10 with value: 9.544779607151284.\u001b[0m\n",
      "\u001b[32m[I 2022-03-05 20:03:57,518]\u001b[0m Trial 18 finished with value: 50.15096970027088 and parameters: {'encode_activ_func': 'sigmoid', 'decode_activ_func': 'sigmoid', 'learning_rate': -4, 'batch_size': 100, 'n_epochs': 1000}. Best is trial 10 with value: 9.544779607151284.\u001b[0m\n",
      "\u001b[32m[I 2022-03-05 20:04:02,244]\u001b[0m Trial 19 finished with value: 47.975463678089525 and parameters: {'encode_activ_func': 'relu', 'decode_activ_func': 'relu', 'learning_rate': -2, 'batch_size': 100, 'n_epochs': 1000}. Best is trial 10 with value: 9.544779607151284.\u001b[0m\n",
      "\u001b[32m[I 2022-03-05 20:04:06,785]\u001b[0m Trial 20 finished with value: 10.84875253554179 and parameters: {'encode_activ_func': 'relu', 'decode_activ_func': 'relu', 'learning_rate': -5, 'batch_size': 100, 'n_epochs': 1000}. Best is trial 10 with value: 9.544779607151284.\u001b[0m\n",
      "\u001b[32m[I 2022-03-05 20:04:11,077]\u001b[0m Trial 21 finished with value: 9.544779607151284 and parameters: {'encode_activ_func': 'relu', 'decode_activ_func': 'relu', 'learning_rate': -4, 'batch_size': 100, 'n_epochs': 1000}. Best is trial 10 with value: 9.544779607151284.\u001b[0m\n",
      "\u001b[32m[I 2022-03-05 20:04:15,356]\u001b[0m Trial 22 finished with value: 9.544779607151284 and parameters: {'encode_activ_func': 'relu', 'decode_activ_func': 'relu', 'learning_rate': -4, 'batch_size': 100, 'n_epochs': 1000}. Best is trial 10 with value: 9.544779607151284.\u001b[0m\n",
      "\u001b[32m[I 2022-03-05 20:04:19,602]\u001b[0m Trial 23 finished with value: 48.250481292668184 and parameters: {'encode_activ_func': 'relu', 'decode_activ_func': 'relu', 'learning_rate': -3, 'batch_size': 100, 'n_epochs': 1000}. Best is trial 10 with value: 9.544779607151284.\u001b[0m\n",
      "\u001b[32m[I 2022-03-05 20:04:19,666]\u001b[0m Trial 24 finished with value: 14.301194414410293 and parameters: {'encode_activ_func': 'relu', 'decode_activ_func': 'relu', 'learning_rate': -4, 'batch_size': 100, 'n_epochs': 10}. Best is trial 10 with value: 9.544779607151284.\u001b[0m\n",
      "\u001b[32m[I 2022-03-05 20:04:21,830]\u001b[0m Trial 25 finished with value: 15.580150139157544 and parameters: {'encode_activ_func': 'relu', 'decode_activ_func': 'relu', 'learning_rate': -6, 'batch_size': 400, 'n_epochs': 1000}. Best is trial 10 with value: 9.544779607151284.\u001b[0m\n",
      "\u001b[32m[I 2022-03-05 20:04:28,086]\u001b[0m Trial 26 finished with value: 9.809232636592494 and parameters: {'encode_activ_func': 'sigmoid', 'decode_activ_func': 'relu', 'learning_rate': -3, 'batch_size': 50, 'n_epochs': 1000}. Best is trial 10 with value: 9.544779607151284.\u001b[0m\n",
      "\u001b[32m[I 2022-03-05 20:04:35,311]\u001b[0m Trial 27 finished with value: 50.151253798769176 and parameters: {'encode_activ_func': 'relu', 'decode_activ_func': 'sigmoid', 'learning_rate': -5, 'batch_size': 100, 'n_epochs': 1000}. Best is trial 10 with value: 9.544779607151284.\u001b[0m\n",
      "\u001b[32m[I 2022-03-05 20:04:39,726]\u001b[0m Trial 28 finished with value: 9.544779607151284 and parameters: {'encode_activ_func': 'relu', 'decode_activ_func': 'relu', 'learning_rate': -4, 'batch_size': 100, 'n_epochs': 1000}. Best is trial 10 with value: 9.544779607151284.\u001b[0m\n",
      "\u001b[32m[I 2022-03-05 20:04:39,981]\u001b[0m Trial 29 finished with value: 54.46088195766446 and parameters: {'encode_activ_func': 'relu', 'decode_activ_func': 'relu', 'learning_rate': -1, 'batch_size': 10, 'n_epochs': 10}. Best is trial 10 with value: 9.544779607151284.\u001b[0m\n"
     ]
    }
   ],
   "source": [
    "def objective(trial):\n",
    "    encode_activ_func = trial.suggest_categorical(\"encode_activ_func\",[\"relu\", \"sigmoid\"]) \n",
    "    decode_activ_func = trial.suggest_categorical(\"decode_activ_func\",[\"relu\", \"sigmoid\"]) \n",
    "    learning_rate = trial.suggest_int(\"learning_rate\", -7, -1, 1)  # learning rate\n",
    "    batch_size = trial.suggest_categorical('batch_size', [10, 50, 100, 200, 400])\n",
    "    n_epochs = trial.suggest_categorical('n_epochs', [10, 100, 500, 1000])\n",
    "    \n",
    "    trial_net = nn.NeuralNetwork(\n",
    "        nn_arch = [{'input_dim': 64, 'output_dim': 16, 'activation': encode_activ_func},\n",
    "                   {'input_dim': 16, 'output_dim': 64, 'activation': decode_activ_func}],\n",
    "        lr = 1 * np.exp(learning_rate),\n",
    "        rand=np.random.RandomState(27),\n",
    "        batch_size=batch_size,\n",
    "        epochs=n_epochs,\n",
    "        loss_function=\"mse\")\n",
    "    train_losses, val_losses = trial_net.fit(X_train, X_train, X_test, X_test)\n",
    "    \n",
    "    return val_losses[-1]\n",
    "\n",
    "study = optuna.create_study(direction=\"minimize\")\n",
    "study.optimize(objective, n_trials=30)"
   ]
  },
  {
   "cell_type": "code",
   "execution_count": 32,
   "id": "3a3ee2b7",
   "metadata": {},
   "outputs": [
    {
     "data": {
      "text/plain": [
       "{'encode_activ_func': 'relu',\n",
       " 'decode_activ_func': 'relu',\n",
       " 'learning_rate': -4,\n",
       " 'batch_size': 100,\n",
       " 'n_epochs': 1000}"
      ]
     },
     "execution_count": 32,
     "metadata": {},
     "output_type": "execute_result"
    }
   ],
   "source": [
    "study.best_params"
   ]
  },
  {
   "cell_type": "markdown",
   "id": "1b9745ed",
   "metadata": {},
   "source": [
    "### Construct Autoencoder"
   ]
  },
  {
   "cell_type": "code",
   "execution_count": 33,
   "id": "26b05ba3",
   "metadata": {},
   "outputs": [],
   "source": [
    "net = nn.NeuralNetwork(\n",
    "    nn_arch = [{'input_dim': 64, 'output_dim': 16, 'activation': 'relu'},\n",
    "               {'input_dim': 16, 'output_dim': 64, 'activation': 'relu'}],\n",
    "    lr = np.exp(-4),\n",
    "    rand = np.random.RandomState(27),\n",
    "    batch_size=100,\n",
    "    epochs=1000,\n",
    "    loss_function=\"mse\")"
   ]
  },
  {
   "cell_type": "markdown",
   "id": "ad78cead",
   "metadata": {},
   "source": [
    "### Train Autoencoder"
   ]
  },
  {
   "cell_type": "code",
   "execution_count": 34,
   "id": "5c12a16b",
   "metadata": {},
   "outputs": [],
   "source": [
    "train_losses, val_losses = net.fit(X_train, X_train, X_test, X_test)"
   ]
  },
  {
   "cell_type": "markdown",
   "id": "d8d3af9d",
   "metadata": {},
   "source": [
    "### Plot Trian and Val Loss"
   ]
  },
  {
   "cell_type": "code",
   "execution_count": 36,
   "id": "7966421b",
   "metadata": {},
   "outputs": [
    {
     "data": {
      "text/plain": [
       "<matplotlib.legend.Legend at 0x7f92f9ed7730>"
      ]
     },
     "execution_count": 36,
     "metadata": {},
     "output_type": "execute_result"
    },
    {
     "data": {
      "image/png": "[encoded data removed]",
      "text/plain": [
       "<Figure size 432x288 with 1 Axes>"
      ]
     },
     "metadata": {
      "needs_background": "light"
     },
     "output_type": "display_data"
    }
   ],
   "source": [
    "plt.plot(train_losses, label=\"train\")\n",
    "plt.plot(val_losses, label=\"val\")\n",
    "plt.xlabel(\"Epoch\")\n",
    "plt.ylabel(\"Loss\")\n",
    "plt.legend()"
   ]
  },
  {
   "cell_type": "markdown",
   "id": "c5e2cfc3",
   "metadata": {},
   "source": [
    "### Reconstruction Error on Test Set"
   ]
  },
  {
   "cell_type": "code",
   "execution_count": 39,
   "id": "d488a679",
   "metadata": {},
   "outputs": [
    {
     "data": {
      "text/plain": [
       "9.544779607151284"
      ]
     },
     "execution_count": 39,
     "metadata": {},
     "output_type": "execute_result"
    }
   ],
   "source": [
    "mean_squared_error(net.predict(X_test), X_test)"
   ]
  },
  {
   "cell_type": "markdown",
   "id": "eedcf4ed",
   "metadata": {},
   "source": [
    "### Show Reconstructred Example Image"
   ]
  },
  {
   "cell_type": "code",
   "execution_count": 37,
   "id": "a10b3ab1",
   "metadata": {},
   "outputs": [
    {
     "data": {
      "text/plain": [
       "<matplotlib.image.AxesImage at 0x7f92f97dcf10>"
      ]
     },
     "execution_count": 37,
     "metadata": {},
     "output_type": "execute_result"
    },
    {
     "data": {
      "image/png": "[encoded data removed]",
      "text/plain": [
       "<Figure size 432x288 with 2 Axes>"
      ]
     },
     "metadata": {
      "needs_background": "light"
     },
     "output_type": "display_data"
    }
   ],
   "source": [
    "fig, (ax1, ax2) = plt.subplots(1,2)\n",
    "pred = net.predict(digits.data[0])\n",
    "ax1.imshow(digits.data[0].reshape(8,8), vmin=4)\n",
    "ax1.set_title(\"actual\")\n",
    "ax2.set_title(\"predicted\")\n",
    "ax2.imshow(pred.reshape(8,8), vmin=4)"
   ]
  },
  {
   "cell_type": "markdown",
   "id": "76118dc4",
   "metadata": {},
   "source": [
    "## Part 2: Transcription Factor Classifier"
   ]
  },
  {
   "cell_type": "markdown",
   "id": "1407589b",
   "metadata": {},
   "source": [
    "### Read in Data"
   ]
  },
  {
   "cell_type": "code",
   "execution_count": 40,
   "id": "40af23c3",
   "metadata": {},
   "outputs": [],
   "source": [
    "positives = io.read_text_file(\"./data/rap1-lieb-positives.txt\")\n",
    "negatives = io.read_fasta_file(\"./data/yeast-upstream-1k-negative.fa\")"
   ]
  },
  {
   "cell_type": "markdown",
   "id": "e7ae1450",
   "metadata": {},
   "source": [
    "### Sample 17-bp seq from negatives to match positive seq lengths"
   ]
  },
  {
   "cell_type": "code",
   "execution_count": 41,
   "id": "9c49f299",
   "metadata": {},
   "outputs": [],
   "source": [
    "pos_length = len(positives[0])\n",
    "\n",
    "negs_shortened = []\n",
    "for seq in negatives:\n",
    "    negs = [seq[i*pos_length:(i + 1)*pos_length] for i in range(len(seq) // pos_length)]\n",
    "    negs_shortened.extend(negs)\n",
    "neg_seqs = list(np.array(negs_shortened)[np.random.randint(len(negs_shortened), size=10000)])"
   ]
  },
  {
   "cell_type": "code",
   "execution_count": 42,
   "id": "aae2b560",
   "metadata": {},
   "outputs": [],
   "source": [
    "all_seqs = positives + neg_seqs\n",
    "all_labels = [True] * len(positives) + [False] * len(neg_seqs)"
   ]
  },
  {
   "cell_type": "markdown",
   "id": "51dcab41",
   "metadata": {},
   "source": [
    "### Over-Sample From Positive to Generate Balanced Dataset\n",
    "I decided to use an over-sampling scheme here as an under-sampling scheme would result in an insufficiently sized dataset."
   ]
  },
  {
   "cell_type": "code",
   "execution_count": 43,
   "id": "acd82ca5",
   "metadata": {},
   "outputs": [],
   "source": [
    "balanced_seqs, balanced_labels = preprocess.sample_seqs(all_seqs, all_labels)"
   ]
  },
  {
   "cell_type": "code",
   "execution_count": 44,
   "id": "15263567",
   "metadata": {},
   "outputs": [],
   "source": [
    "pos_balanced = list(np.array(balanced_seqs)[balanced_labels])\n",
    "neg_balanced = list(np.array(balanced_seqs)[[not label for label in balanced_labels]])"
   ]
  },
  {
   "cell_type": "markdown",
   "id": "2e64b072",
   "metadata": {},
   "source": [
    "### One-Hot Encode Sequence Data"
   ]
  },
  {
   "cell_type": "code",
   "execution_count": 45,
   "id": "4671a7c7",
   "metadata": {},
   "outputs": [],
   "source": [
    "one_hot_pos = preprocess.one_hot_encode_seqs(pos_balanced)\n",
    "one_hot_neg = preprocess.one_hot_encode_seqs(neg_balanced)"
   ]
  },
  {
   "cell_type": "code",
   "execution_count": 46,
   "id": "86670567",
   "metadata": {},
   "outputs": [],
   "source": [
    "pos_with_labels = np.hstack((one_hot_pos, np.ones((one_hot_pos.shape[0], 1))))\n",
    "neg_with_labels = np.hstack((one_hot_neg, np.zeros((one_hot_neg.shape[0], 1))))"
   ]
  },
  {
   "cell_type": "markdown",
   "id": "307c967d",
   "metadata": {},
   "source": [
    "### Generate Dataset"
   ]
  },
  {
   "cell_type": "code",
   "execution_count": 47,
   "id": "1e320d6a",
   "metadata": {},
   "outputs": [],
   "source": [
    "dataset = np.concatenate([pos_with_labels, neg_with_labels], axis=0)"
   ]
  },
  {
   "cell_type": "code",
   "execution_count": 48,
   "id": "6ea49dae",
   "metadata": {},
   "outputs": [
    {
     "data": {
      "text/plain": [
       "(20000, 69)"
      ]
     },
     "execution_count": 48,
     "metadata": {},
     "output_type": "execute_result"
    }
   ],
   "source": [
    "dataset.shape"
   ]
  },
  {
   "cell_type": "code",
   "execution_count": 49,
   "id": "919fc77b",
   "metadata": {},
   "outputs": [],
   "source": [
    "X_train_tfc, X_test_tfc, y_train_tfc, y_test_tfc = train_test_split(dataset[:,:-1], dataset[:,-1][:, np.newaxis], test_size=.1, random_state=27)"
   ]
  },
  {
   "cell_type": "code",
   "execution_count": 50,
   "id": "f36058f2",
   "metadata": {},
   "outputs": [
    {
     "data": {
      "text/plain": [
       "(18000, 68)"
      ]
     },
     "execution_count": 50,
     "metadata": {},
     "output_type": "execute_result"
    }
   ],
   "source": [
    "X_train_tfc.shape"
   ]
  },
  {
   "cell_type": "markdown",
   "id": "501c0886",
   "metadata": {},
   "source": [
    "### Hyperparameter Search w/ Optuna"
   ]
  },
  {
   "cell_type": "code",
   "execution_count": 57,
   "id": "f08f4047",
   "metadata": {
    "scrolled": true
   },
   "outputs": [
    {
     "name": "stderr",
     "output_type": "stream",
     "text": [
      "\u001b[32m[I 2022-03-05 20:24:52,771]\u001b[0m A new study created in memory with name: no-name-25e6b82f-8a68-42c6-9017-542a949bf880\u001b[0m\n",
      "\u001b[32m[I 2022-03-05 20:24:54,680]\u001b[0m Trial 0 finished with value: 0.03236317704373623 and parameters: {'hidden_activ_func': 'relu', 'learning_rate': -7, 'batch_size': 10, 'n_epochs': 10, 'n_neurons': 30}. Best is trial 0 with value: 0.03236317704373623.\u001b[0m\n",
      "/Users/duncanmuir/ucsf_biophysics/bmi-203/project7/nn/nn.py:399: RuntimeWarning: divide by zero encountered in log\n",
      "  total_loss = -(y.T.dot(np.log(y_hat)) + (1 - y.T).dot(np.log(1 - y_hat))).item()\n",
      "\u001b[32m[I 2022-03-05 20:25:21,895]\u001b[0m Trial 1 finished with value: 0.004858318616961323 and parameters: {'hidden_activ_func': 'relu', 'learning_rate': -1, 'batch_size': 50, 'n_epochs': 500, 'n_neurons': 60}. Best is trial 1 with value: 0.004858318616961323.\u001b[0m\n",
      "\u001b[32m[I 2022-03-05 20:27:26,693]\u001b[0m Trial 2 finished with value: 0.005081588151048866 and parameters: {'hidden_activ_func': 'sigmoid', 'learning_rate': -3, 'batch_size': 10, 'n_epochs': 500, 'n_neurons': 80}. Best is trial 1 with value: 0.004858318616961323.\u001b[0m\n",
      "\u001b[32m[I 2022-03-05 20:27:28,664]\u001b[0m Trial 3 finished with value: 0.005319945151253658 and parameters: {'hidden_activ_func': 'sigmoid', 'learning_rate': -3, 'batch_size': 400, 'n_epochs': 100, 'n_neurons': 20}. Best is trial 1 with value: 0.004858318616961323.\u001b[0m\n",
      "\u001b[32m[I 2022-03-05 20:27:31,063]\u001b[0m Trial 4 finished with value: 0.10090650988741034 and parameters: {'hidden_activ_func': 'sigmoid', 'learning_rate': -7, 'batch_size': 10, 'n_epochs': 10, 'n_neurons': 30}. Best is trial 1 with value: 0.004858318616961323.\u001b[0m\n",
      "\u001b[32m[I 2022-03-05 20:27:31,739]\u001b[0m Trial 5 finished with value: 0.022060119389537357 and parameters: {'hidden_activ_func': 'sigmoid', 'learning_rate': -5, 'batch_size': 100, 'n_epochs': 10, 'n_neurons': 70}. Best is trial 1 with value: 0.004858318616961323.\u001b[0m\n",
      "\u001b[32m[I 2022-03-05 20:27:36,938]\u001b[0m Trial 6 finished with value: 0.006674263398352783 and parameters: {'hidden_activ_func': 'relu', 'learning_rate': -6, 'batch_size': 50, 'n_epochs': 100, 'n_neurons': 30}. Best is trial 1 with value: 0.004858318616961323.\u001b[0m\n",
      "\u001b[32m[I 2022-03-05 20:27:37,345]\u001b[0m Trial 7 finished with value: 0.005109619231728129 and parameters: {'hidden_activ_func': 'relu', 'learning_rate': -3, 'batch_size': 400, 'n_epochs': 10, 'n_neurons': 100}. Best is trial 1 with value: 0.004858318616961323.\u001b[0m\n",
      "\u001b[32m[I 2022-03-05 20:27:56,463]\u001b[0m Trial 8 finished with value: 0.005384004107111003 and parameters: {'hidden_activ_func': 'relu', 'learning_rate': -5, 'batch_size': 10, 'n_epochs': 100, 'n_neurons': 10}. Best is trial 1 with value: 0.004858318616961323.\u001b[0m\n",
      "\u001b[32m[I 2022-03-05 20:27:57,520]\u001b[0m Trial 9 finished with value: 0.012590762751837965 and parameters: {'hidden_activ_func': 'sigmoid', 'learning_rate': -4, 'batch_size': 50, 'n_epochs': 10, 'n_neurons': 90}. Best is trial 1 with value: 0.004858318616961323.\u001b[0m\n",
      "\u001b[32m[I 2022-03-05 20:28:20,463]\u001b[0m Trial 10 finished with value: 47.66632670634052 and parameters: {'hidden_activ_func': 'relu', 'learning_rate': -1, 'batch_size': 200, 'n_epochs': 1000, 'n_neurons': 50}. Best is trial 1 with value: 0.004858318616961323.\u001b[0m\n",
      "\u001b[32m[I 2022-03-05 20:29:07,526]\u001b[0m Trial 11 finished with value: 0.005618859578690909 and parameters: {'hidden_activ_func': 'sigmoid', 'learning_rate': -1, 'batch_size': 50, 'n_epochs': 500, 'n_neurons': 70}. Best is trial 1 with value: 0.004858318616961323.\u001b[0m\n",
      "\u001b[32m[I 2022-03-05 20:29:38,645]\u001b[0m Trial 12 finished with value: 0.005190196156736494 and parameters: {'hidden_activ_func': 'sigmoid', 'learning_rate': -2, 'batch_size': 100, 'n_epochs': 500, 'n_neurons': 60}. Best is trial 1 with value: 0.004858318616961323.\u001b[0m\n",
      "\u001b[32m[I 2022-03-05 20:29:53,265]\u001b[0m Trial 13 finished with value: 11.931496473347892 and parameters: {'hidden_activ_func': 'relu', 'learning_rate': -2, 'batch_size': 200, 'n_epochs': 500, 'n_neurons': 80}. Best is trial 1 with value: 0.004858318616961323.\u001b[0m\n",
      "\u001b[32m[I 2022-03-05 20:30:22,372]\u001b[0m Trial 14 finished with value: 0.005899412975994972 and parameters: {'hidden_activ_func': 'relu', 'learning_rate': -2, 'batch_size': 50, 'n_epochs': 500, 'n_neurons': 50}. Best is trial 1 with value: 0.004858318616961323.\u001b[0m\n"
     ]
    }
   ],
   "source": [
    "def tcf_objective(trial):\n",
    "    hidden_activ_func = trial.suggest_categorical(\"hidden_activ_func\",[\"relu\", \"sigmoid\"]) \n",
    "    learning_rate = trial.suggest_int(\"learning_rate\", -7, -1, 1)  # learning rate\n",
    "    batch_size = trial.suggest_categorical('batch_size', [10, 50, 100, 200, 400])\n",
    "    n_epochs = trial.suggest_categorical('n_epochs', [10, 100, 500, 1000])\n",
    "    n_neurons = trial.suggest_int('n_neurons', 10, 100, 10)\n",
    "    \n",
    "    trial_clf = nn.NeuralNetwork(\n",
    "        nn_arch = [{'input_dim': 68, 'output_dim': n_neurons, 'activation': hidden_activ_func},\n",
    "                   {'input_dim': n_neurons, 'output_dim': 1, 'activation': 'sigmoid'}],\n",
    "        lr = 1 * np.exp(learning_rate),\n",
    "        rand=np.random.RandomState(27),\n",
    "        batch_size=batch_size,\n",
    "        epochs=n_epochs,\n",
    "        loss_function=\"bce\")\n",
    "    \n",
    "    tcf_train_losses, tcf_val_losses = trial_clf.fit(X_train_tfc, y_train_tfc, X_test_tfc, y_test_tfc)\n",
    "    \n",
    "    return tcf_val_losses[-1]\n",
    "\n",
    "tcf_study = optuna.create_study(direction=\"minimize\")\n",
    "tcf_study.optimize(tcf_objective, n_trials=15)"
   ]
  },
  {
   "cell_type": "code",
   "execution_count": 58,
   "id": "2c2ad6b0",
   "metadata": {},
   "outputs": [
    {
     "data": {
      "text/plain": [
       "{'hidden_activ_func': 'relu',\n",
       " 'learning_rate': -1,\n",
       " 'batch_size': 50,\n",
       " 'n_epochs': 500,\n",
       " 'n_neurons': 60}"
      ]
     },
     "execution_count": 58,
     "metadata": {},
     "output_type": "execute_result"
    }
   ],
   "source": [
    "tcf_study.best_params"
   ]
  },
  {
   "cell_type": "markdown",
   "id": "ecca7f72",
   "metadata": {},
   "source": [
    "### Construct Classifier\n",
    "Binary cross entropy loss is used in this context due to the classification nature of the problem, as the BCE function will penalized predictions that have lower probablilities of being their correct class."
   ]
  },
  {
   "cell_type": "code",
   "execution_count": 60,
   "id": "cfbbc10b",
   "metadata": {},
   "outputs": [],
   "source": [
    "clf = nn.NeuralNetwork(\n",
    "    nn_arch = [{'input_dim': 68, 'output_dim': 60, 'activation': 'relu'},\n",
    "               {'input_dim': 60, 'output_dim': 1, 'activation': 'sigmoid'}],\n",
    "    lr = 1e-1,\n",
    "    rand=np.random.RandomState(27),\n",
    "    batch_size=50,\n",
    "    epochs=500,\n",
    "    loss_function=\"bce\")"
   ]
  },
  {
   "cell_type": "markdown",
   "id": "287f397c",
   "metadata": {},
   "source": [
    "### Train Classifier"
   ]
  },
  {
   "cell_type": "code",
   "execution_count": 61,
   "id": "0820672f",
   "metadata": {},
   "outputs": [],
   "source": [
    "train_losses_tfc, val_losses_tfc = clf.fit(X_train_tfc, y_train_tfc, X_test_tfc, y_test_tfc)"
   ]
  },
  {
   "cell_type": "markdown",
   "id": "4e152ac6",
   "metadata": {},
   "source": [
    "### Plot Train and Validation Loss"
   ]
  },
  {
   "cell_type": "code",
   "execution_count": 62,
   "id": "40a00f1d",
   "metadata": {},
   "outputs": [
    {
     "data": {
      "text/plain": [
       "<matplotlib.legend.Legend at 0x7f92dab4bd90>"
      ]
     },
     "execution_count": 62,
     "metadata": {},
     "output_type": "execute_result"
    },
    {
     "data": {
      "image/png": "[encoded data removed]",
      "text/plain": [
       "<Figure size 432x288 with 1 Axes>"
      ]
     },
     "metadata": {
      "needs_background": "light"
     },
     "output_type": "display_data"
    }
   ],
   "source": [
    "plt.plot(train_losses_tfc, label=\"train\")\n",
    "plt.plot(val_losses_tfc, label=\"val\")\n",
    "plt.xlabel(\"Epoch\")\n",
    "plt.ylabel(\"Loss\")\n",
    "plt.legend()"
   ]
  },
  {
   "cell_type": "markdown",
   "id": "c9757771",
   "metadata": {},
   "source": [
    "### Testing / Validation Accuracy"
   ]
  },
  {
   "cell_type": "code",
   "execution_count": 63,
   "id": "38678e95",
   "metadata": {},
   "outputs": [
    {
     "data": {
      "text/plain": [
       "0.999"
      ]
     },
     "execution_count": 63,
     "metadata": {},
     "output_type": "execute_result"
    }
   ],
   "source": [
    "accuracy_score((clf.predict(X_test_tfc) >= .5).astype(int), y_test_tfc)"
   ]
  },
  {
   "cell_type": "code",
   "execution_count": null,
   "id": "39b8ec79",
   "metadata": {},
   "outputs": [],
   "source": []
  }
 ],
 "metadata": {
  "kernelspec": {
   "display_name": "Python 3 (ipykernel)",
   "language": "python",
   "name": "python3"
  },
  "language_info": {
   "codemirror_mode": {
    "name": "ipython",
    "version": 3
   },
   "file_extension": ".py",
   "mimetype": "text/x-python",
   "name": "python",
   "nbconvert_exporter": "python",
   "pygments_lexer": "ipython3",
   "version": "3.8.12"
  }
 },
 "nbformat": 4,
 "nbformat_minor": 5
}
